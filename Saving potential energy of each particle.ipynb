{
 "cells": [
  {
   "cell_type": "code",
   "execution_count": 1,
   "metadata": {},
   "outputs": [],
   "source": [
    "import gsd.hoomd\n",
    "import hoomd\n",
    "import matplotlib\n",
    "import numpy\n",
    "\n",
    "%matplotlib inline\n",
    "matplotlib.style.use('ggplot')\n",
    "import matplotlib_inline\n",
    "\n",
    "matplotlib_inline.backend_inline.set_matplotlib_formats('svg')"
   ]
  },
  {
   "cell_type": "code",
   "execution_count": 2,
   "metadata": {
    "jupyter": {
     "source_hidden": true
    },
    "nbsphinx": "hidden",
    "tags": []
   },
   "outputs": [],
   "source": [
    "import os\n",
    "\n",
    "fn = os.path.join(os.getcwd(), 'trajectory.gsd')\n",
    "![ -e \"$fn\" ] && rm \"$fn\""
   ]
  },
  {
   "cell_type": "code",
   "execution_count": 3,
   "metadata": {
    "jupyter": {
     "source_hidden": true
    },
    "nbsphinx": "hidden",
    "tags": []
   },
   "outputs": [],
   "source": [
    "# This is not intended as a full tutorial on fresnel - see the fresnel user\n",
    "# documentation (https://fresnel.readthedocs.io/) if you would like to learn more.\n",
    "\n",
    "import math\n",
    "\n",
    "import fresnel\n",
    "import IPython\n",
    "\n",
    "device = fresnel.Device()\n",
    "tracer = fresnel.tracer.Path(device=device, w=1000, h=1000)\n",
    "\n",
    "\n",
    "def render(snapshot):\n",
    "    L = snapshot.configuration.box[0]\n",
    "    scene = fresnel.Scene(device)\n",
    "    geometry = fresnel.geometry.Sphere(\n",
    "        scene, N=len(snapshot.particles.position), radius=99.5\n",
    "    )\n",
    "    geometry.material = fresnel.material.Material(\n",
    "        color=fresnel.color.linear([2 / 255, 252 / 255, 1 / 255]),\n",
    "        roughness=0.2,\n",
    "        primitive_color_mix=1.0,\n",
    "    )\n",
    "    geometry.position[:] = snapshot.particles.position[:]\n",
    "    geometry.outline_width = 10\n",
    "    energies = snapshot.log['particles/md/pair/Mie/energies']\n",
    "    mapper = matplotlib.cm.ScalarMappable(\n",
    "        norm=matplotlib.colors.Normalize(\n",
    "            vmin=-64, vmax=0, clip=True\n",
    "        ),\n",
    "        cmap=matplotlib.colormaps['viridis'],\n",
    "    )\n",
    "    geometry.color[:] = fresnel.color.linear(mapper.to_rgba(energies))\n",
    "\n",
    "    fresnel.geometry.Box(scene, [L, L, L, 0, 0, 0])\n",
    "\n",
    "    scene.lights = [\n",
    "        fresnel.light.Light(direction=(1,0,0), color=(0.8, 0.8, 0.8), theta=math.pi),\n",
    "        fresnel.light.Light(\n",
    "            direction=(1, 1, 0), color=(1.1, 1.1, 1.1), theta=math.pi / 3\n",
    "        ),\n",
    "    ]\n",
    "    scene.camera = fresnel.camera.Orthographic(\n",
    "        position=(L*2, L, L*2), look_at=(0, 0, 0), up=(0,1,0), height=L *1.2 + 1\n",
    "    )\n",
    "    scene.background_alpha = 0\n",
    "    scene.background_color = (0, 0, 0)\n",
    "    return IPython.display.Image(tracer.sample(scene, samples=1000)._repr_png_())"
   ]
  },
  {
   "cell_type": "code",
   "execution_count": 4,
   "metadata": {},
   "outputs": [],
   "source": [
    "cpu = hoomd.device.CPU()\n",
    "simulation = hoomd.Simulation(device=cpu, seed=1)\n",
    "simulation.create_state_from_gsd(\n",
    "    filename='/root/traj10_G4.gsd'\n",
    ")\n",
    "\n",
    "integrator = hoomd.md.Integrator(dt=0.005)\n",
    "cell = hoomd.md.nlist.Cell(buffer=100)\n",
    "mie = hoomd.md.pair.Mie(nlist=cell)\n",
    "mie.params[('A', 'A')] = dict(epsilon=9, sigma=209, n=45, m=18)\n",
    "mie.r_cut[('A', 'A')] = 260\n",
    "\n",
    "integrator.forces.append(mie)\n",
    "nvt = hoomd.md.methods.ConstantVolume(\n",
    "    filter=hoomd.filter.All(), thermostat=hoomd.md.methods.thermostats.Bussi(kT=2.5)\n",
    ")\n",
    "integrator.methods.append(nvt)\n",
    "simulation.operations.integrator = integrator\n",
    "simulation.run(1)"
   ]
  },
  {
   "cell_type": "code",
   "execution_count": 6,
   "metadata": {},
   "outputs": [],
   "source": [
    "logger = hoomd.logging.Logger()\n",
    "logger.add(mie, quantities=['energies', 'forces'])"
   ]
  },
  {
   "cell_type": "code",
   "execution_count": 7,
   "metadata": {},
   "outputs": [],
   "source": [
    "gsd_writer = hoomd.write.GSD(\n",
    "    filename='trajectory.gsd',\n",
    "    trigger=hoomd.trigger.Periodic(10000),\n",
    "    mode='xb',\n",
    "    filter=hoomd.filter.All(),\n",
    ")\n",
    "simulation.operations.writers.append(gsd_writer)"
   ]
  },
  {
   "cell_type": "code",
   "execution_count": 8,
   "metadata": {},
   "outputs": [],
   "source": [
    "gsd_writer.logger = logger"
   ]
  },
  {
   "cell_type": "code",
   "execution_count": 9,
   "metadata": {},
   "outputs": [],
   "source": [
    "simulation.run(10000)"
   ]
  },
  {
   "cell_type": "code",
   "execution_count": 10,
   "metadata": {},
   "outputs": [],
   "source": [
    "gsd_writer.flush()"
   ]
  },
  {
   "cell_type": "code",
   "execution_count": 11,
   "metadata": {},
   "outputs": [],
   "source": [
    "traj = gsd.hoomd.open('trajectory.gsd', mode='r')"
   ]
  },
  {
   "cell_type": "code",
   "execution_count": null,
   "metadata": {},
   "outputs": [],
   "source": [
    "traj[0].log.keys()"
   ]
  },
  {
   "cell_type": "code",
   "execution_count": null,
   "metadata": {},
   "outputs": [],
   "source": [
    "traj[-1].log['particles/md/pair/Mie/energies'][1001:2000]"
   ]
  },
  {
   "cell_type": "code",
   "execution_count": null,
   "metadata": {},
   "outputs": [],
   "source": [
    "fig = matplotlib.figure.Figure(figsize=(5, 3.09))\n",
    "ax = fig.add_subplot()\n",
    "ax.hist(traj[-1].log['particles/md/pair/Mie/energies'], 100)\n",
    "ax.set_xlabel('potential energy')\n",
    "ax.set_ylabel('count')\n",
    "fig"
   ]
  },
  {
   "cell_type": "code",
   "execution_count": null,
   "metadata": {},
   "outputs": [],
   "source": [
    "render(traj[-1])"
   ]
  },
  {
   "cell_type": "markdown",
   "metadata": {
    "nbsphinx": "hidden"
   },
   "source": [
    "[Previous section](01-Logging-to-a-file.ipynb) / [Next section](03-Storing-Particle-Shape.ipynb)"
   ]
  }
 ],
 "metadata": {
  "kernelspec": {
   "display_name": "base",
   "language": "python",
   "name": "python3"
  },
  "language_info": {
   "codemirror_mode": {
    "name": "ipython",
    "version": 3
   },
   "file_extension": ".py",
   "mimetype": "text/x-python",
   "name": "python",
   "nbconvert_exporter": "python",
   "pygments_lexer": "ipython3",
   "version": "3.12.8"
  },
  "record_timing": false
 },
 "nbformat": 4,
 "nbformat_minor": 4
}
