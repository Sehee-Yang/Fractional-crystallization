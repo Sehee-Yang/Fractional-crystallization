{
 "cells": [
  {
   "cell_type": "code",
   "execution_count": 1,
   "metadata": {},
   "outputs": [],
   "source": [
    "import itertools\n",
    "import math\n",
    "\n",
    "import gsd.hoomd\n",
    "import hoomd\n",
    "import numpy\n",
    "\n",
    "import matplotlib\n",
    "import h5py\n",
    "\n",
    "%matplotlib inline\n",
    "matplotlib.style.use('ggplot')\n",
    "import matplotlib_inline\n",
    "\n",
    "matplotlib_inline.backend_inline.set_matplotlib_formats('svg')"
   ]
  },
  {
   "cell_type": "code",
   "execution_count": 2,
   "metadata": {
    "jupyter": {
     "source_hidden": true
    },
    "nbsphinx": "hidden",
    "tags": []
   },
   "outputs": [],
   "source": [
    "import os\n",
    "\n",
    "fn = os.path.join(os.getcwd(), 'lattice.gsd')\n",
    "![ -e \"$fn\" ] && rm \"$fn\"\n",
    "fn = os.path.join(os.getcwd(), 'random.gsd')\n",
    "![ -e \"$fn\" ] && rm \"$fn\"\n",
    "fn = os.path.join(os.getcwd(), 'log.h5')\n",
    "![ -e \"$fn\" ] && rm \"$fn\""
   ]
  },
  {
   "cell_type": "code",
   "execution_count": 3,
   "metadata": {
    "jupyter": {
     "source_hidden": true
    },
    "nbsphinx": "hidden",
    "tags": []
   },
   "outputs": [],
   "source": [
    "# This is not intended as a full tutorial on fresnel - see the fresnel user\n",
    "# documentation (https://fresnel.readthedocs.io/) if you would like to learn more.\n",
    "\n",
    "import io\n",
    "import warnings\n",
    "\n",
    "import fresnel\n",
    "import IPython\n",
    "import numpy\n",
    "import packaging.version\n",
    "import PIL\n",
    "\n",
    "device = fresnel.Device()\n",
    "tracer = fresnel.tracer.Path(device=device, w=1000,h=1000)\n",
    "\n",
    "FRESNEL_MIN_VERSION = packaging.version.parse('0.13.0')\n",
    "FRESNEL_MAX_VERSION = packaging.version.parse('0.14.0')\n",
    "\n",
    "\n",
    "def render(snapshot, particles=None, is_solid=None):\n",
    "    if (\n",
    "        'version' not in dir(fresnel)\n",
    "        or packaging.version.parse(fresnel.version.version) < FRESNEL_MIN_VERSION\n",
    "        or packaging.version.parse(fresnel.version.version) >= FRESNEL_MAX_VERSION\n",
    "    ):\n",
    "        warnings.warn(\n",
    "            f'Unsupported fresnel version {fresnel.version.version} - expect errors.'\n",
    "        )\n",
    "    L = snapshot.configuration.box[0]\n",
    "    scene = fresnel.Scene(device)\n",
    "\n",
    "    geometryA = fresnel.geometry.Sphere(\n",
    "        scene, N=N_particles_A, radius=121\n",
    "    )\n",
    "\n",
    "    geometryA.material.primitive_color_mix=1\n",
    "    geometryA.material = fresnel.material.Material(\n",
    "        color=fresnel.color.linear([250 / 255, 1 / 255, 120 / 255]), roughness=0.2, specular=0.5\n",
    "    )\n",
    "\n",
    "    typeid=snapshot.particles.typeid\n",
    "    geometryA.position[:] = snapshot.particles.position[0:N_particles_A]\n",
    "    \n",
    "    geometryA.outline_width = 10\n",
    "\n",
    "    geometryB = fresnel.geometry.Sphere(\n",
    "        scene, N=N_particles_B, radius=99.5\n",
    "    )\n",
    "\n",
    "    geometryB.material.primitive_color_mix=1\n",
    "    geometryB.material = fresnel.material.Material(\n",
    "        color=fresnel.color.linear([2 / 255, 252 / 255, 100 / 255]), roughness=0.2, specular=0.5\n",
    "    )\n",
    "\n",
    "    geometryB.position[:] = snapshot.particles.position[N_particles_A:N_particles_A+N_particles_B]\n",
    "    \n",
    "    geometryB.outline_width = 10\n",
    "\n",
    "    fresnel.geometry.Box(scene, [L, L, L, 0, 0, 0],box_radius=0)\n",
    "\n",
    "    scene.lights = [\n",
    "        fresnel.light.Light(direction=(1,0,0), color=(0.8, 0.8, 0.8), theta=math.pi),\n",
    "        fresnel.light.Light(\n",
    "            direction=(1, 1, 0), color=(1.1, 1.1, 1.1), theta=math.pi / 3\n",
    "        ),\n",
    "    ]\n",
    "    scene.camera = fresnel.camera.Orthographic(\n",
    "        position=(L*2, L, L*2), look_at=(0, 0, 0), up=(0,1,0), height=L *1.2 + 1\n",
    "    )\n",
    "    scene.background_alpha = 1\n",
    "    scene.background_color = (1, 1, 1)\n",
    "    return tracer.sample(scene, samples=500)\n",
    "\n",
    "def render_movie(frames, particles=None, is_solid=None):\n",
    "    if is_solid is None:\n",
    "        is_solid = [None] * len(frames)\n",
    "    a = render(frames[0], particles, is_solid[0])\n",
    "    b = a[:, :, 0:3]\n",
    "\n",
    "    im0 = PIL.Image.fromarray(b, mode='RGB').convert(\n",
    "        'P', palette=PIL.Image.Palette.ADAPTIVE\n",
    "    )\n",
    "    ims = []\n",
    "    for i, f in enumerate(frames[1:]):\n",
    "        a = render(f, particles, is_solid[i])\n",
    "        im = PIL.Image.fromarray(a[:, :, 0:3], mode='RGB')\n",
    "        im_p = im.quantize(palette=im0)\n",
    "        ims.append(im_p)\n",
    "\n",
    "    blank = numpy.ones(shape=(im.height, im.width, 3), dtype=numpy.uint8) * 255\n",
    "    im = PIL.Image.fromarray(blank, mode='RGB')\n",
    "    im_p = im.quantize(palette=im0)\n",
    "    ims.append(im_p)\n",
    "\n",
    "    f = io.BytesIO()\n",
    "    im0.save(f, 'gif', save_all=True, append_images=ims, duration=1000, loop=0)\n",
    "\n",
    "    size = len(f.getbuffer()) / 1024\n",
    "\n",
    "    if size > 3000:\n",
    "        warnings.warn(f'Large GIF: {size} KiB')\n",
    "    return IPython.display.display(IPython.display.Image(data=f.getvalue()))"
   ]
  },
  {
   "cell_type": "code",
   "execution_count": 4,
   "metadata": {},
   "outputs": [],
   "source": [
    "m = 10\n",
    "N_particles_A = 2000\n",
    "n= 10\n",
    "N_particles_B = 3600\n",
    "N_particles = N_particles_A + N_particles_B"
   ]
  },
  {
   "cell_type": "code",
   "execution_count": 5,
   "metadata": {},
   "outputs": [],
   "source": [
    "spacing = 5\n",
    "K = math.ceil(N_particles ** (1 / 3)*1000)\n",
    "L = K * spacing\n",
    "K_A = math.ceil(N_particles_A ** (1 / 3))\n",
    "K_B = math.ceil(N_particles_B ** (1 / 3))\n",
    "\n",
    "x_A = numpy.linspace(-L / 2+242, L / 2-242, K_A, endpoint=False)\n",
    "x_B = numpy.linspace(-L / 2+500, L / 2-500, K_B, endpoint=False)\n",
    "position_A = list(itertools.product(x_A, repeat=3))\n",
    "position_B = list(itertools.product(x_B, repeat=3))\n",
    "\n",
    "frame = gsd.hoomd.Frame()\n",
    "frame.particles.N = N_particles\n",
    "frame.particles.types=['A', 'B']\n",
    "frame.particles.positionA=numpy.array(position_A[0:N_particles_A])\n",
    "frame.particles.positionB=numpy.array(position_B[0:N_particles_B])\n",
    "\n",
    "frame.particles.position=numpy.concatenate(\n",
    "    (position_A[0:N_particles_A], position_B[0:N_particles_B])\n",
    ")\n",
    "\n",
    "frame.particles.typeid = numpy.concatenate((numpy.tile(0, N_particles_A), numpy.tile(1, N_particles_B)))\n",
    "frame.configuration.box = [L, L, L, 0, 0, 0]\n",
    "\n",
    "with gsd.hoomd.open(name='lattice.gsd', mode='x') as f:\n",
    "    f.append(frame)\n"
   ]
  },
  {
   "cell_type": "code",
   "execution_count": null,
   "metadata": {},
   "outputs": [],
   "source": [
    "gpu = hoomd.device.GPU()\n",
    "simulation = hoomd.Simulation(device=gpu,seed=1)\n",
    "simulation.create_state_from_gsd(filename='lattice.gsd')\n",
    "\n",
    "integrator = hoomd.md.Integrator(dt=0.005)\n",
    "cell = hoomd.md.nlist.Cell(buffer=100)\n",
    "\n",
    "mie = hoomd.md.pair.Mie(nlist=cell)\n",
    "mie.params[('A', 'A')] = dict(epsilon=9, sigma=253, n=45, m=25)\n",
    "mie.r_cut[('A', 'A')] = 310\n",
    "mie.params[('A', 'B')] = dict(epsilon=8.1, sigma=230.5, n=45, m=20)\n",
    "mie.r_cut[('A', 'B')] = 280\n",
    "mie.params[('B', 'B')] = dict(epsilon=7.4, sigma=209, n=45, m=18)\n",
    "mie.r_cut[('B', 'B')] = 260\n",
    "\n",
    "integrator.forces.append(mie)\n",
    "nvt = hoomd.md.methods.ConstantVolume(\n",
    "    filter=hoomd.filter.All(), thermostat=hoomd.md.methods.thermostats.Bussi(kT=2.5)\n",
    ")\n",
    "integrator.methods.append(nvt)\n",
    "simulation.operations.integrator = integrator"
   ]
  },
  {
   "cell_type": "code",
   "execution_count": 7,
   "metadata": {},
   "outputs": [],
   "source": [
    "snapshot=simulation.state.get_snapshot()"
   ]
  },
  {
   "cell_type": "code",
   "execution_count": 8,
   "metadata": {},
   "outputs": [],
   "source": [
    "simulation.state.thermalize_particle_momenta(filter=hoomd.filter.All(), kT=2.5)\n",
    "thermodynamic_properties = hoomd.md.compute.ThermodynamicQuantities(filter=hoomd.filter.All())\n",
    "simulation.operations.computes.append(thermodynamic_properties)\n",
    "simulation.run(1)"
   ]
  },
  {
   "cell_type": "code",
   "execution_count": 11,
   "metadata": {},
   "outputs": [],
   "source": [
    "simulation.run(2000)"
   ]
  },
  {
   "cell_type": "code",
   "execution_count": 12,
   "metadata": {},
   "outputs": [],
   "source": [
    "hoomd.write.GSD.write(state=simulation.state, filename='random.gsd', mode='xb')"
   ]
  },
  {
   "cell_type": "code",
   "execution_count": 13,
   "metadata": {},
   "outputs": [],
   "source": [
    "gpu=hoomd.device.GPU()\n",
    "simulation=hoomd.Simulation(device=gpu, seed=1)\n",
    "simulation.create_state_from_gsd(filename='random.gsd')"
   ]
  },
  {
   "cell_type": "code",
   "execution_count": 14,
   "metadata": {},
   "outputs": [],
   "source": [
    "gsd_writer=hoomd.write.GSD(\n",
    "    filename='trajvol_alloy_muchmild.gsd', trigger=hoomd.trigger.Periodic(1000), mode='xb'\n",
    ")\n",
    "simulation.operations.writers.append(gsd_writer)"
   ]
  },
  {
   "cell_type": "code",
   "execution_count": null,
   "metadata": {},
   "outputs": [],
   "source": [
    "integrator = hoomd.md.Integrator(dt=0.005)\n",
    "cell = hoomd.md.nlist.Cell(buffer=100)\n",
    "\n",
    "mie = hoomd.md.pair.Mie(nlist=cell)\n",
    "mie.params[('A', 'A')] = dict(epsilon=9, sigma=253, n=45, m=25)\n",
    "mie.r_cut[('A', 'A')] = 310\n",
    "mie.params[('A', 'B')] = dict(epsilon=8.1, sigma=230.5, n=45, m=20)\n",
    "mie.r_cut[('A', 'B')] = 280\n",
    "mie.params[('B', 'B')] = dict(epsilon=7.4, sigma=209, n=45, m=18)\n",
    "mie.r_cut[('B', 'B')] = 260\n",
    "\n",
    "integrator.forces.append(mie)\n",
    "nvt = hoomd.md.methods.ConstantVolume(\n",
    "    filter=hoomd.filter.All(), thermostat=hoomd.md.methods.thermostats.Bussi(kT=2.5)\n",
    ")\n",
    "integrator.methods.append(nvt)\n",
    "simulation.operations.integrator = integrator"
   ]
  },
  {
   "cell_type": "code",
   "execution_count": 16,
   "metadata": {},
   "outputs": [],
   "source": [
    "ramp = hoomd.variant.Ramp(A=0, B=1, t_start=simulation.timestep, t_ramp=20000)"
   ]
  },
  {
   "cell_type": "code",
   "execution_count": null,
   "metadata": {},
   "outputs": [],
   "source": [
    "rho = simulation.state.N_particles *5302852/ simulation.state.box.volume\n",
    "rho"
   ]
  },
  {
   "cell_type": "code",
   "execution_count": 18,
   "metadata": {},
   "outputs": [],
   "source": [
    "initial_box = simulation.state.box\n",
    "final_box = hoomd.Box.from_box(initial_box)  # make a copy of initial_box\n",
    "final_rho = 0.03\n",
    "final_box.volume = simulation.state.N_particles*5302852 / final_rho"
   ]
  },
  {
   "cell_type": "code",
   "execution_count": 19,
   "metadata": {},
   "outputs": [],
   "source": [
    "box_resize_trigger = hoomd.variant.box.InverseVolumeRamp(\n",
    "    initial_box,\n",
    "    final_volume=final_box.volume,\n",
    "    t_start=simulation.timestep,\n",
    "    t_ramp=20_000,\n",
    ")"
   ]
  },
  {
   "cell_type": "code",
   "execution_count": 20,
   "metadata": {},
   "outputs": [],
   "source": [
    "box_resize = hoomd.update.BoxResize(\n",
    "    box=box_resize_trigger,\n",
    "    trigger=hoomd.trigger.Periodic(200),\n",
    ")\n",
    "simulation.operations.updaters.append(box_resize)"
   ]
  },
  {
   "cell_type": "code",
   "execution_count": null,
   "metadata": {},
   "outputs": [],
   "source": [
    "simulation.run(20001)\n",
    "simulation.state.box==final_box"
   ]
  },
  {
   "cell_type": "code",
   "execution_count": 22,
   "metadata": {},
   "outputs": [],
   "source": [
    "simulation.operations.updaters.remove(box_resize)"
   ]
  },
  {
   "cell_type": "code",
   "execution_count": null,
   "metadata": {},
   "outputs": [],
   "source": [
    "simulation.state.box==final_box"
   ]
  },
  {
   "cell_type": "code",
   "execution_count": null,
   "metadata": {},
   "outputs": [],
   "source": [
    "render(simulation.state.get_snapshot())"
   ]
  },
  {
   "cell_type": "code",
   "execution_count": null,
   "metadata": {},
   "outputs": [],
   "source": [
    "simulation.loggables\n",
    "thermodynamic_properties = hoomd.md.compute.ThermodynamicQuantities(\n",
    "    filter=hoomd.filter.All()\n",
    ")\n",
    "simulation.operations.computes.append(thermodynamic_properties)\n",
    "thermodynamic_properties.loggables"
   ]
  },
  {
   "cell_type": "code",
   "execution_count": null,
   "metadata": {},
   "outputs": [],
   "source": [
    "thermodynamic_properties.kinetic_temperature"
   ]
  },
  {
   "cell_type": "code",
   "execution_count": 27,
   "metadata": {},
   "outputs": [],
   "source": [
    "logger = hoomd.logging.Logger(categories=['scalar', 'sequence'])\n",
    "logger.add(thermodynamic_properties)\n",
    "logger.add(simulation, quantities=['timestep', 'walltime'])\n",
    "hdf5_writer = hoomd.write.HDF5Log(\n",
    "    trigger=hoomd.trigger.Periodic(100), filename='log.h5', mode='x', logger=logger\n",
    ")\n",
    "simulation.operations.writers.append(hdf5_writer)"
   ]
  },
  {
   "cell_type": "code",
   "execution_count": 28,
   "metadata": {},
   "outputs": [],
   "source": [
    "simulation.run(2.5*10e7)"
   ]
  },
  {
   "cell_type": "code",
   "execution_count": 29,
   "metadata": {},
   "outputs": [],
   "source": [
    "simulation.operations.writers.remove(hdf5_writer)"
   ]
  },
  {
   "cell_type": "code",
   "execution_count": 30,
   "metadata": {},
   "outputs": [],
   "source": [
    "gsd_writer.flush()"
   ]
  },
  {
   "cell_type": "code",
   "execution_count": null,
   "metadata": {},
   "outputs": [],
   "source": [
    "!h5ls -r log.h5"
   ]
  },
  {
   "cell_type": "code",
   "execution_count": null,
   "metadata": {},
   "outputs": [],
   "source": [
    "!h5dump -d /hoomd-data/md/compute/ThermodynamicQuantities/potential_energy log.h5"
   ]
  },
  {
   "cell_type": "code",
   "execution_count": null,
   "metadata": {},
   "outputs": [],
   "source": [
    "import h5py\n",
    "\n",
    "hdf5_file = h5py.File(name='log.h5', mode='r')\n",
    "hdf5_file['hoomd-data/md/compute/ThermodynamicQuantities/potential_energy']\n",
    "hdf5_file['hoomd-data/md/compute/ThermodynamicQuantities/potential_energy'][:]\n",
    "timestep = hdf5_file['hoomd-data/Simulation/timestep'][:]\n",
    "potential_energy = hdf5_file[\n",
    "    'hoomd-data/md/compute/ThermodynamicQuantities/potential_energy'\n",
    "][:]\n",
    "\n",
    "fig = matplotlib.figure.Figure(figsize=(5, 3.09))\n",
    "ax = fig.add_subplot()\n",
    "ax.plot(timestep, potential_energy)\n",
    "ax.set_xlabel('timestep')\n",
    "ax.set_ylabel('potential energy')\n",
    "fig"
   ]
  },
  {
   "cell_type": "code",
   "execution_count": null,
   "metadata": {},
   "outputs": [],
   "source": [
    "render(simulation.state.get_snapshot())"
   ]
  }
 ],
 "metadata": {
  "kernelspec": {
   "display_name": "hoomd",
   "language": "python",
   "name": "python3"
  },
  "language_info": {
   "codemirror_mode": {
    "name": "ipython",
    "version": 3
   },
   "file_extension": ".py",
   "mimetype": "text/x-python",
   "name": "python",
   "nbconvert_exporter": "python",
   "pygments_lexer": "ipython3",
   "version": "3.13.3"
  },
  "record_timing": false
 },
 "nbformat": 4,
 "nbformat_minor": 4
}
